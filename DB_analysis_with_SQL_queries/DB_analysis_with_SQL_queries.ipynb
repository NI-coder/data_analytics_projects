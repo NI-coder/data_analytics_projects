{
 "cells": [
  {
   "cell_type": "markdown",
   "metadata": {},
   "source": [
    "<h1>Анализ базы данных с помощью SQL-запросов</h1>"
   ]
  },
  {
   "cell_type": "markdown",
   "metadata": {},
   "source": [
    "**Описание проекта:** Компания запускает новый проект - приложение для чтения книг по подписке. Есть база данных о книгах, издательствах, авторах, с пользовательскими оценками и обзорами книг. Необходимо проанализировать базу данных."
   ]
  },
  {
   "cell_type": "markdown",
   "metadata": {},
   "source": [
    "**Цель проекта:** Из имеющейся базы агрегировать данные, которые помогут сформулировать ценностное предложение для нового продукта."
   ]
  },
  {
   "cell_type": "markdown",
   "metadata": {},
   "source": [
    "**Задачи проекта**\n",
    "\n",
    "- Определить общий объём контента (посчитать, сколько книг вышло после 1 января 2000 года);\n",
    "- Проранжировать книги по степении пользовательской удовлетворённости (для каждой книги посчитать количество обзоров и среднюю оценку);\n",
    "- Определить издательство, которое выпустило наибольшее число книг, исключая брошюры (рассматриваем только книги, толщиной более 50 страниц);\n",
    "- Определить самого успешного автора (с самой высокой средней оценкой книг — учитывать только книги с 50 и более оценками);\n",
    "- Охарактеризовать самых активных пользователей (посчитать среднее количество обзоров от пользователей, которые поставили больше 50 оценок)."
   ]
  },
  {
   "cell_type": "markdown",
   "metadata": {},
   "source": [
    "**Описание данных**\n",
    "\n",
    "База данных состоит из 5-ти таблиц:\n",
    "- <span style='color: #EB5757; background-color: rgba(135,131,120,0.15)'><b>books</b></span>, \n",
    "- <span style='color: #EB5757; background-color: rgba(135,131,120,0.15)'><b>authors</b></span>, \n",
    "- <span style='color: #EB5757; background-color: rgba(135,131,120,0.15)'><b>publishers</b></span>, \n",
    "- <span style='color: #EB5757; background-color: rgba(135,131,120,0.15)'><b>ratings</b></span>, \n",
    "- <span style='color: #EB5757; background-color: rgba(135,131,120,0.15)'><b>reviews</b></span>."
   ]
  },
  {
   "cell_type": "markdown",
   "metadata": {},
   "source": [
    "**Содержание проекта:**\n",
    "\n",
    "1. [Подключение к базе данных](#step1)  \n",
    "2. [Знакомство с таблицами базы данных](#step2)  \n",
    "3. [Выполнение задач проекта](#step3) \n",
    "4. [Выводы](#step4)\n",
    "5. [Рекомендации](#step5)"
   ]
  },
  {
   "cell_type": "markdown",
   "metadata": {},
   "source": [
    "<h2>Подключение к базе данных<a id=\"step1\"></a></h2>"
   ]
  },
  {
   "cell_type": "markdown",
   "metadata": {},
   "source": [
    "Импортируем библиотеки:"
   ]
  },
  {
   "cell_type": "code",
   "execution_count": 1,
   "metadata": {},
   "outputs": [],
   "source": [
    "import pandas as pd\n",
    "from sqlalchemy import create_engine"
   ]
  },
  {
   "cell_type": "markdown",
   "metadata": {},
   "source": [
    "Для подключения к базе данных создадим функцию с предустановленными параметрами соединения:\n"
   ]
  },
  {
   "cell_type": "code",
   "execution_count": 2,
   "metadata": {},
   "outputs": [],
   "source": [
    "def create_query(query):\n",
    "    '''\n",
    "    Функция принимает текст sql-запроса в параметре query \n",
    "    и отдаёт полученный из базы данных сформированный, в соотстветствии с sql-запросом, датафрейм.\n",
    "    '''\n",
    "    \n",
    "    #Устанавливаем параметры:\n",
    "    db_config = {'user': '------------', # имя пользователя\n",
    "                'pwd': '--------------', # пароль\n",
    "                'host': '--------------.mdb.yandexcloud.net',\n",
    "                'port': ----, # порт подключения\n",
    "                'db': '---------------'} # название базы данных\n",
    "\n",
    "    #Формируем строку соединения с БД:\n",
    "    connection_string = 'postgresql://{}:{}@{}:{}/{}'.format(db_config['user'],\n",
    "                                                             db_config['pwd'],\n",
    "                                                             db_config['host'],\n",
    "                                                             db_config['port'],\n",
    "                                                             db_config['db']) \n",
    "    \n",
    "    # Подключаемся к БД (cохраняем коннектор):\n",
    "    engine = create_engine(connection_string, connect_args={'sslmode':'require'})\n",
    "    \n",
    "    # Выполняем запрос и получаем результат (DataFrame), который при вызове функции необходимо сохранить в переменной:\n",
    "    return pd.io.sql.read_sql(query, con = engine)"
   ]
  },
  {
   "cell_type": "markdown",
   "metadata": {},
   "source": [
    "<h2>Знакомство с таблицами базы данных<a id=\"step2\"></a></h2>"
   ]
  },
  {
   "cell_type": "markdown",
   "metadata": {},
   "source": [
    "Создадим список названий таблиц:"
   ]
  },
  {
   "cell_type": "code",
   "execution_count": 3,
   "metadata": {},
   "outputs": [],
   "source": [
    "db_tables_names = ['books', 'authors', 'publishers', 'ratings', 'reviews']"
   ]
  },
  {
   "cell_type": "markdown",
   "metadata": {},
   "source": [
    "От заказчика нам известно, что таблицы в БД небольшого размера. Поэтому при запросе не будем ограничивать количество строк. \n",
    "\n",
    "Сделаем запросы к каждой таблице из списка db_tables_names в базе данных и сложим результаты в словарь:"
   ]
  },
  {
   "cell_type": "code",
   "execution_count": 4,
   "metadata": {},
   "outputs": [],
   "source": [
    "db_table_samples = {}\n",
    "\n",
    "for table in db_tables_names:\n",
    "    \n",
    "    #Составим текст запроса для получения таблиц:\n",
    "    query = '''SELECT *\n",
    "               FROM {};\n",
    "            '''.format(table)   \n",
    "    \n",
    "    #Делаем запросы по очереди к каждой таблице из списка db_tables_names\n",
    "    #и добавляем очередную таблицу в словарь:\n",
    "    db_table_samples[table] = create_query(query)"
   ]
  },
  {
   "cell_type": "markdown",
   "metadata": {},
   "source": [
    "Познакомимся с первыми строками каждой из таблиц и получим общую информацию об их составе:"
   ]
  },
  {
   "cell_type": "code",
   "execution_count": 5,
   "metadata": {
    "scrolled": false
   },
   "outputs": [
    {
     "data": {
      "text/plain": [
       "'Таблица \"books\"'"
      ]
     },
     "metadata": {},
     "output_type": "display_data"
    },
    {
     "data": {
      "text/html": [
       "<div>\n",
       "<style scoped>\n",
       "    .dataframe tbody tr th:only-of-type {\n",
       "        vertical-align: middle;\n",
       "    }\n",
       "\n",
       "    .dataframe tbody tr th {\n",
       "        vertical-align: top;\n",
       "    }\n",
       "\n",
       "    .dataframe thead th {\n",
       "        text-align: right;\n",
       "    }\n",
       "</style>\n",
       "<table border=\"1\" class=\"dataframe\">\n",
       "  <thead>\n",
       "    <tr style=\"text-align: right;\">\n",
       "      <th></th>\n",
       "      <th>book_id</th>\n",
       "      <th>author_id</th>\n",
       "      <th>title</th>\n",
       "      <th>num_pages</th>\n",
       "      <th>publication_date</th>\n",
       "      <th>publisher_id</th>\n",
       "    </tr>\n",
       "  </thead>\n",
       "  <tbody>\n",
       "    <tr>\n",
       "      <th>0</th>\n",
       "      <td>1</td>\n",
       "      <td>546</td>\n",
       "      <td>'Salem's Lot</td>\n",
       "      <td>594</td>\n",
       "      <td>2005-11-01</td>\n",
       "      <td>93</td>\n",
       "    </tr>\n",
       "    <tr>\n",
       "      <th>1</th>\n",
       "      <td>2</td>\n",
       "      <td>465</td>\n",
       "      <td>1 000 Places to See Before You Die</td>\n",
       "      <td>992</td>\n",
       "      <td>2003-05-22</td>\n",
       "      <td>336</td>\n",
       "    </tr>\n",
       "    <tr>\n",
       "      <th>2</th>\n",
       "      <td>3</td>\n",
       "      <td>407</td>\n",
       "      <td>13 Little Blue Envelopes (Little Blue Envelope...</td>\n",
       "      <td>322</td>\n",
       "      <td>2010-12-21</td>\n",
       "      <td>135</td>\n",
       "    </tr>\n",
       "    <tr>\n",
       "      <th>3</th>\n",
       "      <td>4</td>\n",
       "      <td>82</td>\n",
       "      <td>1491: New Revelations of the Americas Before C...</td>\n",
       "      <td>541</td>\n",
       "      <td>2006-10-10</td>\n",
       "      <td>309</td>\n",
       "    </tr>\n",
       "    <tr>\n",
       "      <th>4</th>\n",
       "      <td>5</td>\n",
       "      <td>125</td>\n",
       "      <td>1776</td>\n",
       "      <td>386</td>\n",
       "      <td>2006-07-04</td>\n",
       "      <td>268</td>\n",
       "    </tr>\n",
       "  </tbody>\n",
       "</table>\n",
       "</div>"
      ],
      "text/plain": [
       "   book_id  author_id                                              title  \\\n",
       "0        1        546                                       'Salem's Lot   \n",
       "1        2        465                 1 000 Places to See Before You Die   \n",
       "2        3        407  13 Little Blue Envelopes (Little Blue Envelope...   \n",
       "3        4         82  1491: New Revelations of the Americas Before C...   \n",
       "4        5        125                                               1776   \n",
       "\n",
       "   num_pages publication_date  publisher_id  \n",
       "0        594       2005-11-01            93  \n",
       "1        992       2003-05-22           336  \n",
       "2        322       2010-12-21           135  \n",
       "3        541       2006-10-10           309  \n",
       "4        386       2006-07-04           268  "
      ]
     },
     "metadata": {},
     "output_type": "display_data"
    },
    {
     "name": "stdout",
     "output_type": "stream",
     "text": [
      "<class 'pandas.core.frame.DataFrame'>\n",
      "RangeIndex: 1000 entries, 0 to 999\n",
      "Data columns (total 6 columns):\n",
      " #   Column            Non-Null Count  Dtype \n",
      "---  ------            --------------  ----- \n",
      " 0   book_id           1000 non-null   int64 \n",
      " 1   author_id         1000 non-null   int64 \n",
      " 2   title             1000 non-null   object\n",
      " 3   num_pages         1000 non-null   int64 \n",
      " 4   publication_date  1000 non-null   object\n",
      " 5   publisher_id      1000 non-null   int64 \n",
      "dtypes: int64(4), object(2)\n",
      "memory usage: 47.0+ KB\n"
     ]
    },
    {
     "data": {
      "text/plain": [
       "None"
      ]
     },
     "metadata": {},
     "output_type": "display_data"
    },
    {
     "data": {
      "text/plain": [
       "'Таблица \"authors\"'"
      ]
     },
     "metadata": {},
     "output_type": "display_data"
    },
    {
     "data": {
      "text/html": [
       "<div>\n",
       "<style scoped>\n",
       "    .dataframe tbody tr th:only-of-type {\n",
       "        vertical-align: middle;\n",
       "    }\n",
       "\n",
       "    .dataframe tbody tr th {\n",
       "        vertical-align: top;\n",
       "    }\n",
       "\n",
       "    .dataframe thead th {\n",
       "        text-align: right;\n",
       "    }\n",
       "</style>\n",
       "<table border=\"1\" class=\"dataframe\">\n",
       "  <thead>\n",
       "    <tr style=\"text-align: right;\">\n",
       "      <th></th>\n",
       "      <th>author_id</th>\n",
       "      <th>author</th>\n",
       "    </tr>\n",
       "  </thead>\n",
       "  <tbody>\n",
       "    <tr>\n",
       "      <th>0</th>\n",
       "      <td>1</td>\n",
       "      <td>A.S. Byatt</td>\n",
       "    </tr>\n",
       "    <tr>\n",
       "      <th>1</th>\n",
       "      <td>2</td>\n",
       "      <td>Aesop/Laura Harris/Laura Gibbs</td>\n",
       "    </tr>\n",
       "    <tr>\n",
       "      <th>2</th>\n",
       "      <td>3</td>\n",
       "      <td>Agatha Christie</td>\n",
       "    </tr>\n",
       "    <tr>\n",
       "      <th>3</th>\n",
       "      <td>4</td>\n",
       "      <td>Alan Brennert</td>\n",
       "    </tr>\n",
       "    <tr>\n",
       "      <th>4</th>\n",
       "      <td>5</td>\n",
       "      <td>Alan Moore/David   Lloyd</td>\n",
       "    </tr>\n",
       "  </tbody>\n",
       "</table>\n",
       "</div>"
      ],
      "text/plain": [
       "   author_id                          author\n",
       "0          1                      A.S. Byatt\n",
       "1          2  Aesop/Laura Harris/Laura Gibbs\n",
       "2          3                 Agatha Christie\n",
       "3          4                   Alan Brennert\n",
       "4          5        Alan Moore/David   Lloyd"
      ]
     },
     "metadata": {},
     "output_type": "display_data"
    },
    {
     "name": "stdout",
     "output_type": "stream",
     "text": [
      "<class 'pandas.core.frame.DataFrame'>\n",
      "RangeIndex: 636 entries, 0 to 635\n",
      "Data columns (total 2 columns):\n",
      " #   Column     Non-Null Count  Dtype \n",
      "---  ------     --------------  ----- \n",
      " 0   author_id  636 non-null    int64 \n",
      " 1   author     636 non-null    object\n",
      "dtypes: int64(1), object(1)\n",
      "memory usage: 10.1+ KB\n"
     ]
    },
    {
     "data": {
      "text/plain": [
       "None"
      ]
     },
     "metadata": {},
     "output_type": "display_data"
    },
    {
     "data": {
      "text/plain": [
       "'Таблица \"publishers\"'"
      ]
     },
     "metadata": {},
     "output_type": "display_data"
    },
    {
     "data": {
      "text/html": [
       "<div>\n",
       "<style scoped>\n",
       "    .dataframe tbody tr th:only-of-type {\n",
       "        vertical-align: middle;\n",
       "    }\n",
       "\n",
       "    .dataframe tbody tr th {\n",
       "        vertical-align: top;\n",
       "    }\n",
       "\n",
       "    .dataframe thead th {\n",
       "        text-align: right;\n",
       "    }\n",
       "</style>\n",
       "<table border=\"1\" class=\"dataframe\">\n",
       "  <thead>\n",
       "    <tr style=\"text-align: right;\">\n",
       "      <th></th>\n",
       "      <th>publisher_id</th>\n",
       "      <th>publisher</th>\n",
       "    </tr>\n",
       "  </thead>\n",
       "  <tbody>\n",
       "    <tr>\n",
       "      <th>0</th>\n",
       "      <td>1</td>\n",
       "      <td>Ace</td>\n",
       "    </tr>\n",
       "    <tr>\n",
       "      <th>1</th>\n",
       "      <td>2</td>\n",
       "      <td>Ace Book</td>\n",
       "    </tr>\n",
       "    <tr>\n",
       "      <th>2</th>\n",
       "      <td>3</td>\n",
       "      <td>Ace Books</td>\n",
       "    </tr>\n",
       "    <tr>\n",
       "      <th>3</th>\n",
       "      <td>4</td>\n",
       "      <td>Ace Hardcover</td>\n",
       "    </tr>\n",
       "    <tr>\n",
       "      <th>4</th>\n",
       "      <td>5</td>\n",
       "      <td>Addison Wesley Publishing Company</td>\n",
       "    </tr>\n",
       "  </tbody>\n",
       "</table>\n",
       "</div>"
      ],
      "text/plain": [
       "   publisher_id                          publisher\n",
       "0             1                                Ace\n",
       "1             2                           Ace Book\n",
       "2             3                          Ace Books\n",
       "3             4                      Ace Hardcover\n",
       "4             5  Addison Wesley Publishing Company"
      ]
     },
     "metadata": {},
     "output_type": "display_data"
    },
    {
     "name": "stdout",
     "output_type": "stream",
     "text": [
      "<class 'pandas.core.frame.DataFrame'>\n",
      "RangeIndex: 340 entries, 0 to 339\n",
      "Data columns (total 2 columns):\n",
      " #   Column        Non-Null Count  Dtype \n",
      "---  ------        --------------  ----- \n",
      " 0   publisher_id  340 non-null    int64 \n",
      " 1   publisher     340 non-null    object\n",
      "dtypes: int64(1), object(1)\n",
      "memory usage: 5.4+ KB\n"
     ]
    },
    {
     "data": {
      "text/plain": [
       "None"
      ]
     },
     "metadata": {},
     "output_type": "display_data"
    },
    {
     "data": {
      "text/plain": [
       "'Таблица \"ratings\"'"
      ]
     },
     "metadata": {},
     "output_type": "display_data"
    },
    {
     "data": {
      "text/html": [
       "<div>\n",
       "<style scoped>\n",
       "    .dataframe tbody tr th:only-of-type {\n",
       "        vertical-align: middle;\n",
       "    }\n",
       "\n",
       "    .dataframe tbody tr th {\n",
       "        vertical-align: top;\n",
       "    }\n",
       "\n",
       "    .dataframe thead th {\n",
       "        text-align: right;\n",
       "    }\n",
       "</style>\n",
       "<table border=\"1\" class=\"dataframe\">\n",
       "  <thead>\n",
       "    <tr style=\"text-align: right;\">\n",
       "      <th></th>\n",
       "      <th>rating_id</th>\n",
       "      <th>book_id</th>\n",
       "      <th>username</th>\n",
       "      <th>rating</th>\n",
       "    </tr>\n",
       "  </thead>\n",
       "  <tbody>\n",
       "    <tr>\n",
       "      <th>0</th>\n",
       "      <td>1</td>\n",
       "      <td>1</td>\n",
       "      <td>ryanfranco</td>\n",
       "      <td>4</td>\n",
       "    </tr>\n",
       "    <tr>\n",
       "      <th>1</th>\n",
       "      <td>2</td>\n",
       "      <td>1</td>\n",
       "      <td>grantpatricia</td>\n",
       "      <td>2</td>\n",
       "    </tr>\n",
       "    <tr>\n",
       "      <th>2</th>\n",
       "      <td>3</td>\n",
       "      <td>1</td>\n",
       "      <td>brandtandrea</td>\n",
       "      <td>5</td>\n",
       "    </tr>\n",
       "    <tr>\n",
       "      <th>3</th>\n",
       "      <td>4</td>\n",
       "      <td>2</td>\n",
       "      <td>lorichen</td>\n",
       "      <td>3</td>\n",
       "    </tr>\n",
       "    <tr>\n",
       "      <th>4</th>\n",
       "      <td>5</td>\n",
       "      <td>2</td>\n",
       "      <td>mariokeller</td>\n",
       "      <td>2</td>\n",
       "    </tr>\n",
       "  </tbody>\n",
       "</table>\n",
       "</div>"
      ],
      "text/plain": [
       "   rating_id  book_id       username  rating\n",
       "0          1        1     ryanfranco       4\n",
       "1          2        1  grantpatricia       2\n",
       "2          3        1   brandtandrea       5\n",
       "3          4        2       lorichen       3\n",
       "4          5        2    mariokeller       2"
      ]
     },
     "metadata": {},
     "output_type": "display_data"
    },
    {
     "name": "stdout",
     "output_type": "stream",
     "text": [
      "<class 'pandas.core.frame.DataFrame'>\n",
      "RangeIndex: 6456 entries, 0 to 6455\n",
      "Data columns (total 4 columns):\n",
      " #   Column     Non-Null Count  Dtype \n",
      "---  ------     --------------  ----- \n",
      " 0   rating_id  6456 non-null   int64 \n",
      " 1   book_id    6456 non-null   int64 \n",
      " 2   username   6456 non-null   object\n",
      " 3   rating     6456 non-null   int64 \n",
      "dtypes: int64(3), object(1)\n",
      "memory usage: 201.9+ KB\n"
     ]
    },
    {
     "data": {
      "text/plain": [
       "None"
      ]
     },
     "metadata": {},
     "output_type": "display_data"
    },
    {
     "data": {
      "text/plain": [
       "'Таблица \"reviews\"'"
      ]
     },
     "metadata": {},
     "output_type": "display_data"
    },
    {
     "data": {
      "text/html": [
       "<div>\n",
       "<style scoped>\n",
       "    .dataframe tbody tr th:only-of-type {\n",
       "        vertical-align: middle;\n",
       "    }\n",
       "\n",
       "    .dataframe tbody tr th {\n",
       "        vertical-align: top;\n",
       "    }\n",
       "\n",
       "    .dataframe thead th {\n",
       "        text-align: right;\n",
       "    }\n",
       "</style>\n",
       "<table border=\"1\" class=\"dataframe\">\n",
       "  <thead>\n",
       "    <tr style=\"text-align: right;\">\n",
       "      <th></th>\n",
       "      <th>review_id</th>\n",
       "      <th>book_id</th>\n",
       "      <th>username</th>\n",
       "      <th>text</th>\n",
       "    </tr>\n",
       "  </thead>\n",
       "  <tbody>\n",
       "    <tr>\n",
       "      <th>0</th>\n",
       "      <td>1</td>\n",
       "      <td>1</td>\n",
       "      <td>brandtandrea</td>\n",
       "      <td>Mention society tell send professor analysis. ...</td>\n",
       "    </tr>\n",
       "    <tr>\n",
       "      <th>1</th>\n",
       "      <td>2</td>\n",
       "      <td>1</td>\n",
       "      <td>ryanfranco</td>\n",
       "      <td>Foot glass pretty audience hit themselves. Amo...</td>\n",
       "    </tr>\n",
       "    <tr>\n",
       "      <th>2</th>\n",
       "      <td>3</td>\n",
       "      <td>2</td>\n",
       "      <td>lorichen</td>\n",
       "      <td>Listen treat keep worry. Miss husband tax but ...</td>\n",
       "    </tr>\n",
       "    <tr>\n",
       "      <th>3</th>\n",
       "      <td>4</td>\n",
       "      <td>3</td>\n",
       "      <td>johnsonamanda</td>\n",
       "      <td>Finally month interesting blue could nature cu...</td>\n",
       "    </tr>\n",
       "    <tr>\n",
       "      <th>4</th>\n",
       "      <td>5</td>\n",
       "      <td>3</td>\n",
       "      <td>scotttamara</td>\n",
       "      <td>Nation purpose heavy give wait song will. List...</td>\n",
       "    </tr>\n",
       "  </tbody>\n",
       "</table>\n",
       "</div>"
      ],
      "text/plain": [
       "   review_id  book_id       username  \\\n",
       "0          1        1   brandtandrea   \n",
       "1          2        1     ryanfranco   \n",
       "2          3        2       lorichen   \n",
       "3          4        3  johnsonamanda   \n",
       "4          5        3    scotttamara   \n",
       "\n",
       "                                                text  \n",
       "0  Mention society tell send professor analysis. ...  \n",
       "1  Foot glass pretty audience hit themselves. Amo...  \n",
       "2  Listen treat keep worry. Miss husband tax but ...  \n",
       "3  Finally month interesting blue could nature cu...  \n",
       "4  Nation purpose heavy give wait song will. List...  "
      ]
     },
     "metadata": {},
     "output_type": "display_data"
    },
    {
     "name": "stdout",
     "output_type": "stream",
     "text": [
      "<class 'pandas.core.frame.DataFrame'>\n",
      "RangeIndex: 2793 entries, 0 to 2792\n",
      "Data columns (total 4 columns):\n",
      " #   Column     Non-Null Count  Dtype \n",
      "---  ------     --------------  ----- \n",
      " 0   review_id  2793 non-null   int64 \n",
      " 1   book_id    2793 non-null   int64 \n",
      " 2   username   2793 non-null   object\n",
      " 3   text       2793 non-null   object\n",
      "dtypes: int64(2), object(2)\n",
      "memory usage: 87.4+ KB\n"
     ]
    },
    {
     "data": {
      "text/plain": [
       "None"
      ]
     },
     "metadata": {},
     "output_type": "display_data"
    }
   ],
   "source": [
    "for key in db_table_samples.keys():\n",
    "    \n",
    "    display('Таблица \"{}\"'.format(key))\n",
    "    display(db_table_samples[key].head())\n",
    "    display(db_table_samples[key].info())"
   ]
  },
  {
   "cell_type": "markdown",
   "metadata": {},
   "source": [
    "<b>Таблица</b> <span style='color: #EB5757; background-color: rgba(135,131,120,0.15)'><b>books</b></span>\n",
    "\n",
    "Содержит данные о книгах в количестве 1000 штук:\n",
    "\n",
    "- <span style='color: #EB5757; background-color: rgba(135,131,120,0.15)'>book_id</span> — уникальный идентификатор книги;\n",
    "- <span style='color: #EB5757; background-color: rgba(135,131,120,0.15)'>author_id</span> — уникальный идентификатор автора;\n",
    "- <span style='color: #EB5757; background-color: rgba(135,131,120,0.15)'>title</span> — название книги;\n",
    "- <span style='color: #EB5757; background-color: rgba(135,131,120,0.15)'>num_pages</span> — количество страниц в книге;\n",
    "- <span style='color: #EB5757; background-color: rgba(135,131,120,0.15)'>publication_date</span> — дата публикации книги;\n",
    "- <span style='color: #EB5757; background-color: rgba(135,131,120,0.15)'>publisher_id</span> — уникальный идентификатор издателя.\n",
    "\n",
    "<b>Таблица</b> <span style='color: #EB5757; background-color: rgba(135,131,120,0.15)'><b>authors</b></span>\n",
    "\n",
    "Содержит данные о 636 авторах:\n",
    "\n",
    "- <span style='color: #EB5757; background-color: rgba(135,131,120,0.15)'>author_id</span> — уникальный идентификатор автора;\n",
    "- <span style='color: #EB5757; background-color: rgba(135,131,120,0.15)'>author</span> — имя автора книги.\n",
    "\n",
    "<b>Таблица</b> <span style='color: #EB5757; background-color: rgba(135,131,120,0.15)'><b>publishers</b></span>\n",
    "\n",
    "Содержит данные о 340 издательствах:\n",
    "\n",
    "- <span style='color: #EB5757; background-color: rgba(135,131,120,0.15)'>publisher_id</span> — уникальный идентификатор издательства;\n",
    "- <span style='color: #EB5757; background-color: rgba(135,131,120,0.15)'>publisher</span> — название издательства;\n",
    "\n",
    "<b>Таблица</b> <span style='color: #EB5757; background-color: rgba(135,131,120,0.15)'><b>ratings</b></span>\n",
    "\n",
    "Содержит данные о 6456 пользовательских оценках книг:\n",
    "\n",
    "- <span style='color: #EB5757; background-color: rgba(135,131,120,0.15)'>rating_id</span> — уникальный идентификатор оценки;\n",
    "- <span style='color: #EB5757; background-color: rgba(135,131,120,0.15)'>book_id</span> — уникальный идентификатор книги;\n",
    "- <span style='color: #EB5757; background-color: rgba(135,131,120,0.15)'>username</span> — имя пользователя, оставившего оценку;\n",
    "- <span style='color: #EB5757; background-color: rgba(135,131,120,0.15)'>rating</span> — пользовательская оценка книги.\n",
    "\n",
    "<b>Таблица</b> <span style='color: #EB5757; background-color: rgba(135,131,120,0.15)'><b>reviews</b></span>\n",
    "\n",
    "Содержит данные о 2793 пользовательских обзорах книг:\n",
    "\n",
    "- <span style='color: #EB5757; background-color: rgba(135,131,120,0.15)'>review_id</span> — уникальный идентификатор обзора;\n",
    "- <span style='color: #EB5757; background-color: rgba(135,131,120,0.15)'>book_id</span> — уникальный идентификатор книги;\n",
    "- <span style='color: #EB5757; background-color: rgba(135,131,120,0.15)'>username</span> — имя пользователя, написавшего обзор;\n",
    "- <span style='color: #EB5757; background-color: rgba(135,131,120,0.15)'>text</span> — текст обзора.\n"
   ]
  },
  {
   "cell_type": "markdown",
   "metadata": {},
   "source": [
    "Состав и размерность таблиц в базе данных понятны, пропущенные значения отсутствуют, можно приступать к формированию запросов."
   ]
  },
  {
   "cell_type": "markdown",
   "metadata": {},
   "source": [
    "<h2>Выполнение задач проекта<a id=\"step3\"></a></h2>"
   ]
  },
  {
   "cell_type": "markdown",
   "metadata": {},
   "source": [
    "**Считаем, сколько книг вышло после 1 января 2000 года**"
   ]
  },
  {
   "cell_type": "markdown",
   "metadata": {},
   "source": [
    "1. В таблице books отбираем строки, где значения колонки publication_date больше '2000-01-01'\n",
    "2. Считаем и выводим количество уникальных идентификаторов книг."
   ]
  },
  {
   "cell_type": "markdown",
   "metadata": {},
   "source": [
    "Составляем текст sql-запроса:"
   ]
  },
  {
   "cell_type": "code",
   "execution_count": 6,
   "metadata": {
    "scrolled": true
   },
   "outputs": [],
   "source": [
    "query_1 = '''SELECT \n",
    "                COUNT(DISTINCT book_id)\n",
    "            FROM \n",
    "                books\n",
    "            WHERE \n",
    "                CAST(publication_date AS date) >= '2000-01-01';\n",
    "        '''"
   ]
  },
  {
   "cell_type": "code",
   "execution_count": 7,
   "metadata": {},
   "outputs": [
    {
     "data": {
      "text/html": [
       "<div>\n",
       "<style scoped>\n",
       "    .dataframe tbody tr th:only-of-type {\n",
       "        vertical-align: middle;\n",
       "    }\n",
       "\n",
       "    .dataframe tbody tr th {\n",
       "        vertical-align: top;\n",
       "    }\n",
       "\n",
       "    .dataframe thead th {\n",
       "        text-align: right;\n",
       "    }\n",
       "</style>\n",
       "<table border=\"1\" class=\"dataframe\">\n",
       "  <thead>\n",
       "    <tr style=\"text-align: right;\">\n",
       "      <th></th>\n",
       "      <th>count</th>\n",
       "    </tr>\n",
       "  </thead>\n",
       "  <tbody>\n",
       "    <tr>\n",
       "      <th>0</th>\n",
       "      <td>821</td>\n",
       "    </tr>\n",
       "  </tbody>\n",
       "</table>\n",
       "</div>"
      ],
      "text/plain": [
       "   count\n",
       "0    821"
      ]
     },
     "execution_count": 7,
     "metadata": {},
     "output_type": "execute_result"
    }
   ],
   "source": [
    "books_count_released_after_2000_01_01 = create_query(query_1)\n",
    "books_count_released_after_2000_01_01"
   ]
  },
  {
   "cell_type": "markdown",
   "metadata": {},
   "source": [
    "После 01.01.2000 вышла 821 книга."
   ]
  },
  {
   "cell_type": "markdown",
   "metadata": {},
   "source": [
    "**Для каждой книги считаем количество обзоров и среднюю оценку**"
   ]
  },
  {
   "cell_type": "markdown",
   "metadata": {},
   "source": [
    "Подзапрос subq:\n",
    "1. К таблице books присоединяем таблицу reviews по колонке book_id (используем LEFT JOIN, т.к. для нас сейчас важно, чтобы все книги вошли в итоговый результат)\n",
    "2. Группируем по идентификатору книги.\n",
    "3. По каждой книге считаем среднюю оценку.\n",
    "4. Выводим колонки с идентификатором книги и средней оценкой.\n",
    "\n",
    "Внешний запрос:\n",
    "1. К таблице books присоединяем таблицу (результат подзапроса subq) по колонке book_id (также используем LEFT JOIN, т.к. для нас сейчас важно, чтобы все книги вошли в итоговый результат)\n",
    "2. Группируем по идентификатору книги book_id и колонке среднего рейтинга из таблицы subq (результат подзапроса).\n",
    "3. По каждой книге считаем количество отзывов.\n",
    "4. Выводим колонки с названием книги, количеством отзывов и средней оценкой."
   ]
  },
  {
   "cell_type": "markdown",
   "metadata": {},
   "source": [
    "Составляем текст sql-запроса:"
   ]
  },
  {
   "cell_type": "code",
   "execution_count": 8,
   "metadata": {},
   "outputs": [],
   "source": [
    "query_2 = ''' SELECT \n",
    "                    books.title,\n",
    "                    COUNT(reviews.review_id) AS review_cnt,\n",
    "                    subq.avg_rating\n",
    "                FROM \n",
    "                    books\n",
    "                LEFT JOIN reviews ON reviews.book_id = books.book_id\n",
    "                LEFT JOIN  \n",
    "                \n",
    "                    (SELECT \n",
    "                        books.book_id,\n",
    "                        AVG(ratings.rating) AS avg_rating\n",
    "                    FROM \n",
    "                        books\n",
    "                    LEFT JOIN ratings ON ratings.book_id = books.book_id\n",
    "                    GROUP BY\n",
    "                        books.book_id) AS subq\n",
    "                        \n",
    "                    ON subq.book_id = books.book_id\n",
    "                GROUP BY\n",
    "                    books.book_id,\n",
    "                    subq.avg_rating\n",
    "            '''"
   ]
  },
  {
   "cell_type": "code",
   "execution_count": 9,
   "metadata": {
    "scrolled": false
   },
   "outputs": [
    {
     "data": {
      "text/html": [
       "<div>\n",
       "<style scoped>\n",
       "    .dataframe tbody tr th:only-of-type {\n",
       "        vertical-align: middle;\n",
       "    }\n",
       "\n",
       "    .dataframe tbody tr th {\n",
       "        vertical-align: top;\n",
       "    }\n",
       "\n",
       "    .dataframe thead th {\n",
       "        text-align: right;\n",
       "    }\n",
       "</style>\n",
       "<table border=\"1\" class=\"dataframe\">\n",
       "  <thead>\n",
       "    <tr style=\"text-align: right;\">\n",
       "      <th></th>\n",
       "      <th>title</th>\n",
       "      <th>review_cnt</th>\n",
       "      <th>avg_rating</th>\n",
       "    </tr>\n",
       "  </thead>\n",
       "  <tbody>\n",
       "    <tr>\n",
       "      <th>0</th>\n",
       "      <td>The Christmas Shoes (Christmas Hope #1)</td>\n",
       "      <td>2</td>\n",
       "      <td>4.000000</td>\n",
       "    </tr>\n",
       "    <tr>\n",
       "      <th>1</th>\n",
       "      <td>Holes (Holes  #1)</td>\n",
       "      <td>5</td>\n",
       "      <td>3.967742</td>\n",
       "    </tr>\n",
       "    <tr>\n",
       "      <th>2</th>\n",
       "      <td>The Beach House</td>\n",
       "      <td>3</td>\n",
       "      <td>4.000000</td>\n",
       "    </tr>\n",
       "    <tr>\n",
       "      <th>3</th>\n",
       "      <td>The Complete Calvin and Hobbes</td>\n",
       "      <td>2</td>\n",
       "      <td>4.500000</td>\n",
       "    </tr>\n",
       "    <tr>\n",
       "      <th>4</th>\n",
       "      <td>I Feel Bad About My Neck: And Other Thoughts o...</td>\n",
       "      <td>2</td>\n",
       "      <td>4.000000</td>\n",
       "    </tr>\n",
       "  </tbody>\n",
       "</table>\n",
       "</div>"
      ],
      "text/plain": [
       "                                               title  review_cnt  avg_rating\n",
       "0            The Christmas Shoes (Christmas Hope #1)           2    4.000000\n",
       "1                                  Holes (Holes  #1)           5    3.967742\n",
       "2                                    The Beach House           3    4.000000\n",
       "3                     The Complete Calvin and Hobbes           2    4.500000\n",
       "4  I Feel Bad About My Neck: And Other Thoughts o...           2    4.000000"
      ]
     },
     "execution_count": 9,
     "metadata": {},
     "output_type": "execute_result"
    }
   ],
   "source": [
    "reviews_cnt_and_avg_ratings = create_query(query_2)\n",
    "reviews_cnt_and_avg_ratings.head()"
   ]
  },
  {
   "cell_type": "markdown",
   "metadata": {},
   "source": [
    "Получили таблицу с уникальными идентификаторами книг, по каждой из которых выведено количество обзоров и средняя оценка."
   ]
  },
  {
   "cell_type": "markdown",
   "metadata": {},
   "source": [
    "**Определяем издательство, которое выпустило наибольшее число книг толще 50 страниц (так мы исключаем из анализа брошюры)**"
   ]
  },
  {
   "cell_type": "markdown",
   "metadata": {},
   "source": [
    "1. К таблице books присоединяем таблицу publishers (используем RIGHT JOIN, т.к. книги на протяжении своей жизни могут публиковаться в разных издательствах, и нас интересуют сейчас именно издательства)\n",
    "2. В таблице books отбираем строки, где значения колонки num_pages больше 50.\n",
    "3. Группируем строки по идентификатору издательства.\n",
    "4. Для каждого издательства считаем количество книг.\n",
    "5. Сортируем строки по убыванию количества книг.\n",
    "6. Выводим первую строку таблицы с идентификатором издательства, названием издательства и количеством изданных книг."
   ]
  },
  {
   "cell_type": "markdown",
   "metadata": {},
   "source": [
    "Составляем текст sql-запроса:"
   ]
  },
  {
   "cell_type": "code",
   "execution_count": 10,
   "metadata": {},
   "outputs": [],
   "source": [
    "query_3 = ''' SELECT \n",
    "                    books.publisher_id AS publisher_id,\n",
    "                    publishers.publisher AS publisher,\n",
    "                    COUNT(DISTINCT books.book_id) AS books_cnt\n",
    "                FROM \n",
    "                    books\n",
    "                RIGHT JOIN publishers ON publishers.publisher_id = books.publisher_id\n",
    "                WHERE\n",
    "                    books.num_pages > 50\n",
    "                GROUP BY\n",
    "                    books.publisher_id,\n",
    "                    publishers.publisher\n",
    "                ORDER BY\n",
    "                    books_cnt DESC\n",
    "                LIMIT 1;\n",
    "            '''"
   ]
  },
  {
   "cell_type": "code",
   "execution_count": 11,
   "metadata": {},
   "outputs": [
    {
     "data": {
      "text/html": [
       "<div>\n",
       "<style scoped>\n",
       "    .dataframe tbody tr th:only-of-type {\n",
       "        vertical-align: middle;\n",
       "    }\n",
       "\n",
       "    .dataframe tbody tr th {\n",
       "        vertical-align: top;\n",
       "    }\n",
       "\n",
       "    .dataframe thead th {\n",
       "        text-align: right;\n",
       "    }\n",
       "</style>\n",
       "<table border=\"1\" class=\"dataframe\">\n",
       "  <thead>\n",
       "    <tr style=\"text-align: right;\">\n",
       "      <th></th>\n",
       "      <th>publisher_id</th>\n",
       "      <th>publisher</th>\n",
       "      <th>books_cnt</th>\n",
       "    </tr>\n",
       "  </thead>\n",
       "  <tbody>\n",
       "    <tr>\n",
       "      <th>0</th>\n",
       "      <td>212</td>\n",
       "      <td>Penguin Books</td>\n",
       "      <td>42</td>\n",
       "    </tr>\n",
       "  </tbody>\n",
       "</table>\n",
       "</div>"
      ],
      "text/plain": [
       "   publisher_id      publisher  books_cnt\n",
       "0           212  Penguin Books         42"
      ]
     },
     "execution_count": 11,
     "metadata": {},
     "output_type": "execute_result"
    }
   ],
   "source": [
    "max_books_cnt_publisher = create_query(query_3)\n",
    "max_books_cnt_publisher"
   ]
  },
  {
   "cell_type": "markdown",
   "metadata": {},
   "source": [
    "Получили данные об издательстве с самым большим количеством изданных книг, объёмом больше 50 страниц."
   ]
  },
  {
   "cell_type": "markdown",
   "metadata": {},
   "source": [
    "**Определяем автора с самой высокой средней оценкой книг — учитываем только книги с 50 и более оценками**"
   ]
  },
  {
   "cell_type": "markdown",
   "metadata": {},
   "source": [
    "Подзапрос subq:\n",
    "1. В таблице ratings группируем строки по идентификатору книги. При этом в расчёт берём только те книги, у которых общее количество пользовательских оценок больше 50 штук.\n",
    "2. По каждой книге считаем среднюю оценку пользователей.\n",
    "3. Получаем таблицу с идентификаторами книг (с количеством оценок больше 50) и средней оценкой по каждой книге.\n",
    "\n",
    "Внешний запрос:\n",
    "1. Присоединяем к таблице books таблицу subq (результат подзапроса) по колонке book_id (используем RIGHT JOIN, т.к. нам сейчас нужны все книги из результата подзапроса) \n",
    "2. Присоединяем к таблице books (изменённой предыдущим соединением с subq) таблицу authors по колонке author_id (используем LEFT JOIN, т.к. для нас сейчас важно, чтобы в итоговый результат вошли все строки таблицы - результата предыдущего соединения)\n",
    "3. Группируем строки по автору.\n",
    "4. Для каждого автора находим среднее значение из средних пользовательских оценок его книг.\n",
    "3. Получаем поля с именем автора и средним значением пользовательских оценок его книг.\n",
    "4. Сортируем авторов по убыванию средних пользовательских оценок.\n",
    "5. Ограничиваем вывод только первой строкой (с самой высокой средней оценкой пользователей)"
   ]
  },
  {
   "cell_type": "markdown",
   "metadata": {},
   "source": [
    "Составляем текст sql-запроса:"
   ]
  },
  {
   "cell_type": "code",
   "execution_count": 12,
   "metadata": {},
   "outputs": [],
   "source": [
    "query_4 = ''' SELECT \n",
    "                    authors.author,\n",
    "                    AVG(subq.avg_rating) AS avg_books_rating\n",
    "                FROM \n",
    "                    books\n",
    "                RIGHT JOIN \n",
    "                \n",
    "                    (SELECT \n",
    "                        ratings.book_id,\n",
    "                        AVG(ratings.rating) AS avg_rating\n",
    "                    FROM \n",
    "                        ratings\n",
    "                    GROUP BY\n",
    "                        ratings.book_id\n",
    "                    HAVING\n",
    "                        COUNT(ratings.rating) >= 50) AS subq\n",
    "                \n",
    "                    ON subq.book_id = books.book_id\n",
    "                LEFT JOIN authors ON authors.author_id = books.author_id\n",
    "                GROUP BY\n",
    "                    authors.author\n",
    "                ORDER BY\n",
    "                    avg_books_rating DESC\n",
    "                LIMIT 1;\n",
    "            '''"
   ]
  },
  {
   "cell_type": "code",
   "execution_count": 13,
   "metadata": {
    "scrolled": true
   },
   "outputs": [
    {
     "data": {
      "text/html": [
       "<div>\n",
       "<style scoped>\n",
       "    .dataframe tbody tr th:only-of-type {\n",
       "        vertical-align: middle;\n",
       "    }\n",
       "\n",
       "    .dataframe tbody tr th {\n",
       "        vertical-align: top;\n",
       "    }\n",
       "\n",
       "    .dataframe thead th {\n",
       "        text-align: right;\n",
       "    }\n",
       "</style>\n",
       "<table border=\"1\" class=\"dataframe\">\n",
       "  <thead>\n",
       "    <tr style=\"text-align: right;\">\n",
       "      <th></th>\n",
       "      <th>author</th>\n",
       "      <th>avg_books_rating</th>\n",
       "    </tr>\n",
       "  </thead>\n",
       "  <tbody>\n",
       "    <tr>\n",
       "      <th>0</th>\n",
       "      <td>J.K. Rowling/Mary GrandPré</td>\n",
       "      <td>4.283844</td>\n",
       "    </tr>\n",
       "  </tbody>\n",
       "</table>\n",
       "</div>"
      ],
      "text/plain": [
       "                       author  avg_books_rating\n",
       "0  J.K. Rowling/Mary GrandPré          4.283844"
      ]
     },
     "execution_count": 13,
     "metadata": {},
     "output_type": "execute_result"
    }
   ],
   "source": [
    "authors_with_ratings = create_query(query_4)\n",
    "authors_with_ratings.head()"
   ]
  },
  {
   "cell_type": "markdown",
   "metadata": {},
   "source": [
    "Получили имя автора J.K. Rowling/Mary GrandPré с самым высоким средним значением средних оценок его книг."
   ]
  },
  {
   "cell_type": "markdown",
   "metadata": {},
   "source": [
    "**Считаем среднее количество обзоров от пользователей, которые поставили больше 50 оценок**"
   ]
  },
  {
   "cell_type": "markdown",
   "metadata": {},
   "source": [
    "Подзапрос №1\n",
    "\n",
    "1. В таблице ratings группируем строки по пользователям (username)\n",
    "2. Считаем количество оценок, проставленных каждым пользователем.\n",
    "3. Получаем таблицу с колонками \"пользователь\" и \"количество оценок\".\n",
    "\n",
    "Подзапрос №2\n",
    "\n",
    "1. Получаем список пользователей из таблицы подзапроса №1, у которых количество оценок больше 50.\n",
    "\n",
    "Подзапрос №3\n",
    "\n",
    "1. В таблице reviews отбираем строки с пользователями, которые есть в списке, полученном в подзапросе №2.\n",
    "2. Группируем строки по этим пользователям.\n",
    "3. По каждому пользователю считаем количество обзоров.\n",
    "4. Получаем список с количеством обзоров каждого пользователя (согласно подзапросу №2 в пользователях у нас остались только те, кто проставил книгам более 50 оценок)\n",
    "\n",
    "Внешний запрос:\n",
    "\n",
    "1. Обращаемся к списку, полученному в подзапросе №3\n",
    "2. Считаем и выводим среднее значение количества обзоров."
   ]
  },
  {
   "cell_type": "markdown",
   "metadata": {},
   "source": [
    "Составляем текст sql-запроса:"
   ]
  },
  {
   "cell_type": "code",
   "execution_count": 14,
   "metadata": {},
   "outputs": [],
   "source": [
    "query_5 = ''' SELECT \n",
    "                    ROUND(AVG(subq_2.reviews_cnt), 0) AS avg_reviews_cnt\n",
    "                FROM \n",
    "                \n",
    "                    (SELECT \n",
    "                        username,\n",
    "                        COUNT(review_id) AS reviews_cnt\n",
    "                    FROM \n",
    "                        reviews\n",
    "                    WHERE\n",
    "                        username IN \n",
    "                        \n",
    "                            (SELECT \n",
    "                                subq_1.username\n",
    "                            FROM \n",
    "                \n",
    "                                (SELECT \n",
    "                                    username,\n",
    "                                    COUNT(rating_id) AS ratings_cnt\n",
    "                                FROM \n",
    "                                    ratings\n",
    "                                GROUP BY\n",
    "                                    username) AS subq_1\n",
    "                \n",
    "                            WHERE\n",
    "                                subq_1.ratings_cnt > 50)\n",
    "                            \n",
    "                    GROUP BY\n",
    "                        username) AS subq_2;\n",
    "            '''"
   ]
  },
  {
   "cell_type": "code",
   "execution_count": 15,
   "metadata": {},
   "outputs": [
    {
     "data": {
      "text/html": [
       "<div>\n",
       "<style scoped>\n",
       "    .dataframe tbody tr th:only-of-type {\n",
       "        vertical-align: middle;\n",
       "    }\n",
       "\n",
       "    .dataframe tbody tr th {\n",
       "        vertical-align: top;\n",
       "    }\n",
       "\n",
       "    .dataframe thead th {\n",
       "        text-align: right;\n",
       "    }\n",
       "</style>\n",
       "<table border=\"1\" class=\"dataframe\">\n",
       "  <thead>\n",
       "    <tr style=\"text-align: right;\">\n",
       "      <th></th>\n",
       "      <th>avg_reviews_cnt</th>\n",
       "    </tr>\n",
       "  </thead>\n",
       "  <tbody>\n",
       "    <tr>\n",
       "      <th>0</th>\n",
       "      <td>24.0</td>\n",
       "    </tr>\n",
       "  </tbody>\n",
       "</table>\n",
       "</div>"
      ],
      "text/plain": [
       "   avg_reviews_cnt\n",
       "0             24.0"
      ]
     },
     "execution_count": 15,
     "metadata": {},
     "output_type": "execute_result"
    }
   ],
   "source": [
    "avg_reviews_count = create_query(query_5)\n",
    "avg_reviews_count"
   ]
  },
  {
   "cell_type": "markdown",
   "metadata": {},
   "source": [
    "Получили среднее количество обзоров от пользователей, проставивших более 50 оценок."
   ]
  },
  {
   "cell_type": "markdown",
   "metadata": {},
   "source": [
    "<h2>Выводы<a id=\"step4\"></a></h2>"
   ]
  },
  {
   "cell_type": "markdown",
   "metadata": {},
   "source": [
    "1. После 01.01.2000 года всего издательствами, имеющимися в базе данных, была выпущена 821 книга.\n",
    "2. Рейтинги книг и издательств можно определять по оценкам читателей и количеству книжных обзоров.\n",
    "3. Наибольшее число книг, объёмом более 50 страниц, выпустило издательство Penguin Books (42 книги).\n",
    "4. Самый высокий средний рейтинг (из самых часто оцениваемых книг) имеют книги автора J.K. Rowling/Mary GrandPré.\n",
    "5. Самые активные пользователи (проставившие книгам более 50 оценок) в среднем пишут по 24 обзора."
   ]
  },
  {
   "cell_type": "markdown",
   "metadata": {},
   "source": [
    "<h2>Рекомендации<a id=\"step5\"></a></h2>"
   ]
  },
  {
   "cell_type": "markdown",
   "metadata": {},
   "source": [
    "1. В MVP нового продукта включить книги из ТОП-20 авторов по уровню средней пользовательской оценки.\n",
    "2. Продукт должен давать пользователю возможность ставить книгам оценки и делать отзывы.\n",
    "3. Продукт должен давать возможность фильтровать книги и авторов по уровню оценок и тональности отзывов (обзоров).\n",
    "4. Продукт должен стимулировать пользователя ставить оценки и делать обзоры."
   ]
  },
  {
   "cell_type": "code",
   "execution_count": null,
   "metadata": {},
   "outputs": [],
   "source": []
  }
 ],
 "metadata": {
  "kernelspec": {
   "display_name": "Python 3",
   "language": "python",
   "name": "python3"
  },
  "language_info": {
   "codemirror_mode": {
    "name": "ipython",
    "version": 3
   },
   "file_extension": ".py",
   "mimetype": "text/x-python",
   "name": "python",
   "nbconvert_exporter": "python",
   "pygments_lexer": "ipython3",
   "version": "3.8.3"
  }
 },
 "nbformat": 4,
 "nbformat_minor": 4
}
